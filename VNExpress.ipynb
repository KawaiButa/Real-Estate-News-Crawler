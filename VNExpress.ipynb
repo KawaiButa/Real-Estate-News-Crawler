{
 "cells": [
  {
   "cell_type": "markdown",
   "metadata": {
    "id": "kfHnxgCeRVaC"
   },
   "source": [
    "# Bài toán\n",
    "\n",
    "> **Thu thập dữ liệu báo Việt Nam (VnExpress - Demo)**\n",
    "\n",
    "Mục tiêu:\n",
    "\n",
    "- Hiểu được quy trình thu thập dữ liệu từ các trang báo Việt Nam\n",
    "- Thu thập dữ liệu (bài báo) từ các trang báo Việt Nam để làm dữ liệu cho các bước xử lý sau\n",
    "\n",
    "Đầu ra:\n",
    "\n",
    "-  Tập file JSON chứa các bài bài báo có các trường dữ liệu:\n",
    "\n",
    "    - `url`: link dẫn đến bài báo\n",
    "    - `title`: tiêu đề bài báo\n",
    "    - `description`: tóm tắt bài báo\n",
    "    - `content`: nội dung bài báo\n",
    "    - `metadata`: trường dữ liệu bổ sung\n",
    "\n",
    "        - `cat`: thể loại bài báo\n",
    "        - `subcat`: thể loại con của bài báo\n",
    "        - `published_date`: thời gian xuất bản\n",
    "        - `author`: người viết\n",
    "    \n",
    "- Ví dụ về một bài báo:\n",
    "\n",
    "    ```\n",
    "    {\n",
    "        \"url\": \"https://vnexpress.net/chinh-phu-ban-hanh-nghi-dinh-moi-ve-gia-dat-4763835.html\",\n",
    "        \"title\": \"Chính phủ ban hành nghị định mới về giá đất\",\n",
    "        \"description\": \"Chính phủ hôm nay ban hành Nghị định 71, trong đó quy ...\",\n",
    "        \"content\": \"Nghị định này có hiệu lực khi Luật Đất đai 2024 được thi hành ...\",\n",
    "        \"metadata\": {\n",
    "            \"cat\": \"Bất động sản\",\n",
    "            \"subcat\": \"Chính sách\",\n",
    "            \"published_date\": 1719575647,\n",
    "            \"author\": \"Anh Tú\"\n",
    "        }\n",
    "    },\n",
    "    ```"
   ]
  },
  {
   "cell_type": "markdown",
   "metadata": {
    "id": "ANWayZpLQic7"
   },
   "source": [
    "# Các bước tiến hành"
   ]
  },
  {
   "cell_type": "markdown",
   "metadata": {
    "id": "7ZZDlcMrQic_"
   },
   "source": [
    "## Chuẩn bị các thư viện cần thiết"
   ]
  },
  {
   "cell_type": "code",
   "execution_count": 45,
   "metadata": {
    "colab": {
     "base_uri": "https://localhost:8080/"
    },
    "executionInfo": {
     "elapsed": 33645,
     "status": "ok",
     "timestamp": 1722506335067,
     "user": {
      "displayName": "Duc Nguyen Quang",
      "userId": "13435852976191392349"
     },
     "user_tz": -420
    },
    "id": "0LIvPhdLP61Z",
    "outputId": "99706c43-30e3-4017-fdb0-2ccaaf7bfb70"
   },
   "outputs": [
    {
     "name": "stderr",
     "output_type": "stream",
     "text": [
      "'apt' is not recognized as an internal or external command,\n",
      "operable program or batch file.\n"
     ]
    }
   ],
   "source": [
    "# Suitable for Google Colab, for local please follow the external instructions and ignore this line\n",
    "# and follows https://docs.google.com/document/d/14jK9d6KHJYX0b-gFAVqAghUxT7OLAM0nP2IovL7_Rjs/edit?usp=sharing\n",
    "!apt install -qq chromium-chromedriver"
   ]
  },
  {
   "cell_type": "code",
   "execution_count": 46,
   "metadata": {
    "colab": {
     "base_uri": "https://localhost:8080/"
    },
    "executionInfo": {
     "elapsed": 8735,
     "status": "ok",
     "timestamp": 1722506343796,
     "user": {
      "displayName": "Duc Nguyen Quang",
      "userId": "13435852976191392349"
     },
     "user_tz": -420
    },
    "id": "uAgbi-xTT9rq",
    "outputId": "06c01615-c176-4816-f776-948ac6c7bb9d"
   },
   "outputs": [
    {
     "name": "stdout",
     "output_type": "stream",
     "text": [
      "Note: you may need to restart the kernel to use updated packages.\n"
     ]
    },
    {
     "name": "stderr",
     "output_type": "stream",
     "text": [
      "A subdirectory or file data already exists.\n"
     ]
    }
   ],
   "source": [
    "# Install selenium\n",
    "%pip install -qq selenium\n",
    "\n",
    "# Tạo thư mục để chứa data\n",
    "!mkdir data"
   ]
  },
  {
   "cell_type": "code",
   "execution_count": 1,
   "metadata": {
    "id": "xYKVCqVdQidA"
   },
   "outputs": [],
   "source": [
    "# selenium import\n",
    "from selenium import webdriver\n",
    "from selenium.webdriver.chrome.service import Service\n",
    "from selenium.webdriver.common.by import By\n",
    "from selenium.common.exceptions import StaleElementReferenceException, NoSuchElementException\n",
    "\n",
    "# other imports\n",
    "import os\n",
    "import json"
   ]
  },
  {
   "cell_type": "code",
   "execution_count": 2,
   "metadata": {
    "id": "W1nuvz0CQidC"
   },
   "outputs": [],
   "source": [
    "# selenium setups\n",
    "## https://www.tutorialspoint.com/selenium/selenium_webdriver_chrome_webdriver_options.htm\n",
    "\n",
    "chrome_options = webdriver.ChromeOptions()\n",
    "\n",
    "# chrome_options.add_argument('--headless') # must options for Google Colab\n",
    "chrome_options.add_argument('--no-sandbox')\n",
    "chrome_options.add_argument('--disable-dev-shm-usage')\n",
    "chrome_options.add_argument(\"--disable-extensions\")\n",
    "chrome_options.add_argument(\"--disable-gpu\")\n"
   ]
  },
  {
   "cell_type": "code",
   "execution_count": 3,
   "metadata": {
    "id": "VSSeTnvTXUvb"
   },
   "outputs": [],
   "source": [
    "MAGAZINE_NAME = \"vnexpress\"\n",
    "HOME_PAGE = \"https://vnexpress.net/bat-dong-san\"\n"
   ]
  },
  {
   "cell_type": "markdown",
   "metadata": {},
   "source": [
    "# Thu thập urls"
   ]
  },
  {
   "cell_type": "code",
   "execution_count": 4,
   "metadata": {},
   "outputs": [
    {
     "name": "stderr",
     "output_type": "stream",
     "text": [
      "There was an error managing chromedriver (error sending request for url (https://googlechromelabs.github.io/chrome-for-testing/known-good-versions-with-downloads.json)); using driver found in the cache\n",
      "Error sending stats to Plausible: error sending request for url (https://plausible.io/api/event)\n"
     ]
    }
   ],
   "source": [
    "driver = webdriver.Chrome(options=chrome_options)"
   ]
  },
  {
   "cell_type": "code",
   "execution_count": null,
   "metadata": {},
   "outputs": [],
   "source": [
    "driver.get(HOME_PAGE)\n",
    "\n",
    "N_URLS = 10\n",
    "\n",
    "urls = []\n",
    "id = 0\n",
    "page = 1\n",
    "start = -1\n",
    "cnt_err = 0\n",
    "while len(urls) < N_URLS:\n",
    "    id += 1\n",
    "    print(f\"id={id}\")\n",
    "    try:\n",
    "        element = driver.find_element(By.CSS_SELECTOR, f'a[data-medium=\"Item-{id}\"]')\n",
    "        href = element.get_attribute(\"href\")\n",
    "        if start == -1:\n",
    "            start = id\n",
    "            print(f'page={page}, start={start}')\n",
    "        print(href)\n",
    "        urls.append(href)\n",
    "        cnt_err = 0\n",
    "\n",
    "    except (StaleElementReferenceException, NoSuchElementException) as e:\n",
    "        cnt_err += 1\n",
    "        if start != -1 and cnt_err == 3: # nếu đang crawl mà có 3 bài lỗi liên tục -> nhảy qua trang tiếp theo để kiếm\n",
    "            id -= cnt_err\n",
    "            print(f'Bug at id={id + 1}, next, find in page={page + 1}')\n",
    "            print('Finding start_id.......')\n",
    "            driver.get(HOME_PAGE + \"-p\" + str(page + 1))\n",
    "            page += 1\n",
    "            start = -1\n",
    "            cnt_err = 0\n",
    "        driver.refresh()\n",
    "        # Chúng ta tạm bỏ lỗi bây giờ\n",
    "        continue\n",
    "    except Exception:\n",
    "        print('Exception')\n",
    "        continue\n",
    "\n"
   ]
  },
  {
   "cell_type": "code",
   "execution_count": 6,
   "metadata": {},
   "outputs": [
    {
     "data": {
      "text/plain": [
       "['https://vnexpress.net/nha-ong-mot-mat-thoang-voi-du-khong-gian-san-vuon-4860582.html',\n",
       " 'https://vnexpress.net/co-nen-ban-dat-vung-ven-de-dau-tu-can-ho-trung-tam-4859514.html',\n",
       " 'https://vnexpress.net/80-lo-dat-trung-dau-gia-tai-ha-dong-bi-bo-coc-4860359.html',\n",
       " 'https://vnexpress.net/tp-hcm-se-ho-tro-50-chi-phi-ha-tang-cai-tao-chung-cu-cu-4860348.html',\n",
       " 'https://vnexpress.net/co-nen-ban-dat-tinh-de-doi-can-chung-cu-rong-hon-o-ha-noi-4860298.html',\n",
       " 'https://vnexpress.net/cong-ty-con-hoa-phat-se-lam-9-000-can-nha-xa-hoi-tai-hung-yen-4860280.html',\n",
       " 'https://vnexpress.net/dong-tho-khu-cong-nghiep-vsip-ii-quang-ngai-4860230.html',\n",
       " 'https://vnexpress.net/phat-dat-dieu-chinh-doanh-thu-giam-1-200-ty-dong-4860059.html',\n",
       " 'https://vnexpress.net/cong-ty-dung-ai-ban-bat-dong-san-thu-ve-100-trieu-usd-4859585.html',\n",
       " 'https://vnexpress.net/khoi-cong-khu-cong-nghiep-sinh-thai-400-ha-phia-tay-tp-hcm-4860514.html']"
      ]
     },
     "execution_count": 6,
     "metadata": {},
     "output_type": "execute_result"
    }
   ],
   "source": [
    "driver.close()\n",
    "urls"
   ]
  },
  {
   "cell_type": "markdown",
   "metadata": {
    "id": "GYQuF0tnQidF"
   },
   "source": [
    "## Thu thập dữ liệu\n",
    "\n",
    "> **Các bước thu thập bài báo**\n",
    "\n",
    "\n",
    "1. News categories: Thu thập tất cả các thể loại báo của website\n",
    "2. News urls: Thu thập một số đường dẫn dựa vài từng thể loại báo của website đó\n",
    "3. News articles: Thu thập và xử lý từng bài báo dựa vào đường dẫn của bước trước"
   ]
  },
  {
   "cell_type": "markdown",
   "metadata": {
    "id": "xyHM7QIPQidG"
   },
   "source": [
    "### Thu thập thể loại bài báo của website: Crawling categories\n",
    "\n",
    "> **Các bước thu thập**\n",
    "\n",
    "1. Vào trang chủ của báo\n",
    "2. Thu thập các thể loại ở mục menu\n"
   ]
  },
  {
   "cell_type": "markdown",
   "metadata": {
    "id": "kx1W0AigY9po"
   },
   "source": [
    "Vào trang chủ"
   ]
  },
  {
   "cell_type": "code",
   "execution_count": 7,
   "metadata": {
    "id": "sVO804PQQidG"
   },
   "outputs": [],
   "source": [
    "driver = webdriver.Chrome(options=chrome_options)\n",
    "# Vào trang web chính, mặc định phải chờ toàn bộ trang webload mới xong\n",
    "driver.get(HOME_PAGE)"
   ]
  },
  {
   "cell_type": "markdown",
   "metadata": {
    "id": "twFoPf3UY_lj"
   },
   "source": [
    "Chọn menu buttons"
   ]
  },
  {
   "cell_type": "markdown",
   "metadata": {
    "id": "K-tNzlW_ZIrY"
   },
   "source": [
    "Thu thập hết thể loại:\n",
    "\n",
    "* Cách chọn elements ở web trong selenium: https://selenium-python.readthedocs.io/locating-elements.html"
   ]
  },
  {
   "cell_type": "markdown",
   "metadata": {
    "id": "DEPy1mjPQidN"
   },
   "source": [
    "### Thu thập và xử lý từng bài báo dựa vào đường dẫn của bước trước: News articles\n",
    "\n",
    "\n",
    "> **Cách thu thập**\n",
    "\n",
    "Từ đường dẫn ở trong phần trước, ta lần lượt vào từng đường link đó và thu thập thông tin về bài báo."
   ]
  },
  {
   "cell_type": "markdown",
   "metadata": {
    "id": "2ms0OT9v_Y6M"
   },
   "source": [
    "#### Cài đặt thông số"
   ]
  },
  {
   "cell_type": "code",
   "execution_count": 8,
   "metadata": {
    "id": "xxqNs_ucmqlH"
   },
   "outputs": [],
   "source": [
    "# Filepath cho cái trước\n",
    "FILE_URL_PATH = \"data/vnexpress_url.json\"\n",
    "\n",
    "# Data output, mỗi thể loại là 1 file json chứa articles\n",
    "DATA_FOLDER_OUTPUT = \"data\\\\vnexpress\"\n",
    "#\n",
    "os.system(\"md \" + DATA_FOLDER_OUTPUT)\n",
    "\n",
    "# Để loading strategy về eager load nhanh, không quan tâm ảnh\n",
    "chrome_options.page_load_strategy = \"eager\""
   ]
  },
  {
   "cell_type": "markdown",
   "metadata": {
    "id": "9n2zjpByQidO"
   },
   "source": [
    "#### Chạy thử nghiệm"
   ]
  },
  {
   "cell_type": "code",
   "execution_count": 11,
   "metadata": {
    "id": "N5dpy8j2QidS"
   },
   "outputs": [
    {
     "data": {
      "text/plain": [
       "'https://vnexpress.net/thu-tuong-yeu-cau-nghien-cuu-danh-thue-dau-co-bat-dong-san-4839559.html'"
      ]
     },
     "execution_count": 11,
     "metadata": {},
     "output_type": "execute_result"
    }
   ],
   "source": [
    "driver = webdriver.Chrome(options=chrome_options)\n",
    "\n",
    "# Một số url để thử nghiệm\n",
    "SAMPLE_ARTICLE_URLS = [\n",
    "    \"https://vnexpress.net/tp-hcm-cap-so-hong-cho-41-du-an-nha-o-thuong-mai-4839917.html\",\n",
    "    \"https://vnexpress.net/thu-tuong-yeu-cau-nghien-cuu-danh-thue-dau-co-bat-dong-san-4839559.html\"\n",
    "]\n",
    "\n",
    "# chọn url\n",
    "SAMPLE_ARTICLE_URL = SAMPLE_ARTICLE_URLS[-1]\n",
    "SAMPLE_ARTICLE_URL"
   ]
  },
  {
   "cell_type": "code",
   "execution_count": 12,
   "metadata": {
    "id": "9TzJPGT9QidS"
   },
   "outputs": [],
   "source": [
    "driver.get(SAMPLE_ARTICLE_URL)"
   ]
  },
  {
   "cell_type": "code",
   "execution_count": 13,
   "metadata": {
    "colab": {
     "base_uri": "https://localhost:8080/",
     "height": 36
    },
    "executionInfo": {
     "elapsed": 1009,
     "status": "ok",
     "timestamp": 1722164615401,
     "user": {
      "displayName": "Duc Nguyen Quang",
      "userId": "13435852976191392349"
     },
     "user_tz": -420
    },
    "id": "hTDOejxCQidS",
    "outputId": "2cb60bef-3e5d-48c1-98e6-46e132fc4587"
   },
   "outputs": [
    {
     "data": {
      "text/plain": [
       "'Thủ tướng yêu cầu nghiên cứu đánh thuế đầu cơ bất động sản'"
      ]
     },
     "execution_count": 13,
     "metadata": {},
     "output_type": "execute_result"
    }
   ],
   "source": [
    "# Tìm kiếm title\n",
    "driver.find_element(by=By.CSS_SELECTOR, value=\"h1.title-detail\").text"
   ]
  },
  {
   "cell_type": "code",
   "execution_count": 14,
   "metadata": {
    "colab": {
     "base_uri": "https://localhost:8080/",
     "height": 53
    },
    "executionInfo": {
     "elapsed": 4328,
     "status": "ok",
     "timestamp": 1722164621440,
     "user": {
      "displayName": "Duc Nguyen Quang",
      "userId": "13435852976191392349"
     },
     "user_tz": -420
    },
    "id": "fqnbV9HBQidS",
    "outputId": "a7aa0b8b-bec0-46ee-b4dc-a0eee498f5b3"
   },
   "outputs": [
    {
     "data": {
      "text/plain": [
       "'Thủ tướng Phạm Minh Chính yêu cầu Bộ Tài chính nghiên cứu, đề xuất chính sách thuế nhằm hạn chế hoạt động đầu cơ bất động sản.'"
      ]
     },
     "execution_count": 14,
     "metadata": {},
     "output_type": "execute_result"
    }
   ],
   "source": [
    "# Tìm kiếm description\n",
    "driver.find_element(by=By.CLASS_NAME, value=\"description\").text"
   ]
  },
  {
   "cell_type": "code",
   "execution_count": null,
   "metadata": {
    "colab": {
     "base_uri": "https://localhost:8080/"
    },
    "executionInfo": {
     "elapsed": 470,
     "status": "ok",
     "timestamp": 1722164624429,
     "user": {
      "displayName": "Duc Nguyen Quang",
      "userId": "13435852976191392349"
     },
     "user_tz": -420
    },
    "id": "QtoeSnJHzUj0",
    "outputId": "d7f28462-c155-4cbf-9d06-22e4dc0021f8"
   },
   "outputs": [
    {
     "name": "stdout",
     "output_type": "stream",
     "text": [
      "Bất động sản Chính sách "
     ]
    },
    {
     "data": {
      "text/plain": [
       "('Bất động sản', 'Chính sách')"
      ]
     },
     "execution_count": 21,
     "metadata": {},
     "output_type": "execute_result"
    }
   ],
   "source": [
    "# Thu thập thể loại\n",
    "lis_cat = driver.find_element(by=By.CSS_SELECTOR, value=\"ul.breadcrumb\").find_elements(by=By.TAG_NAME, value=\"li\")\n",
    "main_cat = lis_cat[0].text if len(lis_cat) > 0 else None\n",
    "sub_cat = lis_cat[1].text if len(lis_cat) > 1 else None\n",
    "main_cat, sub_cat"
   ]
  },
  {
   "cell_type": "code",
   "execution_count": null,
   "metadata": {
    "colab": {
     "base_uri": "https://localhost:8080/",
     "height": 36
    },
    "executionInfo": {
     "elapsed": 3,
     "status": "ok",
     "timestamp": 1722164624843,
     "user": {
      "displayName": "Duc Nguyen Quang",
      "userId": "13435852976191392349"
     },
     "user_tz": -420
    },
    "id": "9k-qFSefzz-i",
    "outputId": "5d0097e1-1f02-4ae4-d913-28f70cf2f410"
   },
   "outputs": [
    {
     "data": {
      "text/plain": [
       "'2025-01-16T00:02:00+07:00'"
      ]
     },
     "execution_count": 22,
     "metadata": {},
     "output_type": "execute_result"
    }
   ],
   "source": [
    "# Thu thập ngày\n",
    "publish_date = driver.find_element(by=By.CSS_SELECTOR, value='[itemprop=\"datePublished\"]').get_attribute(\"content\").strip()\n",
    "publish_date"
   ]
  },
  {
   "cell_type": "code",
   "execution_count": null,
   "metadata": {
    "id": "AfOjnr6oQidT"
   },
   "outputs": [],
   "source": [
    "# Tìm kiếm contents\n",
    "article = driver.find_element(by=By.CSS_SELECTOR, value=\"article.fck_detail\")\n",
    "children = article.find_elements(by=By.XPATH, value=\"./*\")"
   ]
  },
  {
   "cell_type": "code",
   "execution_count": null,
   "metadata": {
    "id": "4loi1nlPQidT"
   },
   "outputs": [],
   "source": [
    "# Thu thập contents và author\n",
    "contents = []\n",
    "author = \"Unknown\"\n",
    "is_slide_show = False\n",
    "\n",
    "for idx, child in enumerate(children):\n",
    "    text = child.text.strip()\n",
    "    # right align\n",
    "    if child.tag_name == \"p\" and (\"right\" in child.get_attribute(\"align\") or \"right\" in child.get_attribute(\"style\")) and idx >= len(children) - 3: # last three, align right --> author\n",
    "        author = text\n",
    "    elif child.tag_name == \"p\" and child.get_attribute(\"class\") == \"Normal\": # paragraph\n",
    "        # If center\n",
    "        if len(text):\n",
    "            if (\"center\" in child.get_attribute(\"align\") or \"center\" in child.get_attribute(\"style\")):\n",
    "                contents.append(f\"[{text}]\")\n",
    "            else:\n",
    "                contents.append(text)\n",
    "    elif child.tag_name == \"figure\" :\n",
    "        ## If length > 100  --> not a caption, it's next description\n",
    "        if len(text):\n",
    "            if len(text) <= 100:\n",
    "                contents.append(f\"[{text}]\")\n",
    "            else:\n",
    "                contents.append(text)\n",
    "    elif child.tag_name == \"div\" and \"item_slide_show\" in child.get_attribute(\"class\"):\n",
    "        is_slide_show = True # slideshow\n",
    "        if len(text):\n",
    "            if len(text) <= 100:\n",
    "                contents.append(f\"[{text}]\")\n",
    "            else:\n",
    "                contents.append(text)\n",
    "\n",
    "    elif child.tag_name == \"table\": # Do nothing rightnow\n",
    "        pass\n",
    "\n",
    "if is_slide_show:\n",
    "    author = text\n",
    "\n",
    "if author == \"Unknown\":\n",
    "    try:\n",
    "        author = driver.find_element(by=By.XPATH, value=\"//*[contains(@class, 'author')]\").text\n",
    "    except:\n",
    "        pass"
   ]
  },
  {
   "cell_type": "code",
   "execution_count": null,
   "metadata": {
    "colab": {
     "base_uri": "https://localhost:8080/"
    },
    "executionInfo": {
     "elapsed": 400,
     "status": "ok",
     "timestamp": 1722164633952,
     "user": {
      "displayName": "Duc Nguyen Quang",
      "userId": "13435852976191392349"
     },
     "user_tz": -420
    },
    "id": "_kZ5RRwSQidT",
    "outputId": "b5bb42a6-b312-4d7e-acf8-0f912538b270"
   },
   "outputs": [
    {
     "data": {
      "text/plain": [
       "['Nội dung trên được Thủ tướng Phạm Minh Chính đề cập trong công điện gửi các bộ ngành, địa phương, yêu cầu tập trung chấn chỉnh, xử lý việc thao túng giá, đầu cơ bất động sản và thanh tra, kiểm tra các dự án đầu tư xây dựng bất động sản.',\n",
       " 'Theo đó, trong năm 2024, một số khu vực ghi nhận giá bất động sản tăng cao so với khả năng đáp ứng tài chính của người dân. Nguyên nhân là một số hội, nhóm đầu cơ lợi dụng sự thiếu hiểu biết, tâm lý đầu tư theo đám đông của người dân để thao túng tâm lý, \"đẩy giá tăng cao\", \"tạo giá ảo\" gây nhiễu loạn thông tin thị trường nhằm trục lợi.',\n",
       " 'Ngoài ra, một số chủ đầu tư dự án bất động sản lợi dụng tình hình nguồn cung bất động sản hạn chế để đưa ra giá chào bán cao hơn mức trung bình của các dự án để thu lợi. Kết quả trúng đấu giá quyền sử dụng đất cao bất thường tại một số khu vực làm tăng mặt bằng giá đất, giá nhà ở.',\n",
       " 'Để tăng cường kiểm soát và xử lý kịp thời việc thao túng, đẩy giá và đầu cơ bất động sản, Thủ tướng yêu cầu Bộ trưởng Tài chính nghiên cứu, đề xuất chính sách thuế nhằm hạn chế hoạt động đầu cơ bất động sản, bảo đảm phù hợp với điều kiện kinh tế - xã hội của Việt Nam và thông lệ quốc tế. Trong đó, nghiên cứu phương án thu thuế phần chênh lệch giá giữa giá tính tiền sử dụng đất và giá bán sản phẩm bất động sản của các dự án, báo cáo Chính phủ trước ngày 30/4.',\n",
       " '[Bất động sản khu Đông TP HCM, tháng 10/2024 nhìn từ trên cao. Ảnh: Quỳnh Trần]',\n",
       " 'Thủ tướng cũng yêu cầu Thống đốc Ngân hàng nhà nước rà soát kỹ lưỡng, đảm bảo các tổ chức tín dụng định giá các tài sản đảm bảo là bất động sản khách quan, hợp lý, tuân thủ quy định quản lý rủi ro tín dụng. Đặc biệt không được tiếp tay cho hành vi thao túng giá, tạo mặt bằng giá mới \"ảo\", làm mất ổn định và \"méo mó\" thị trường. Bộ Công an chỉ đạo các đơn vị xử lý nghiêm các tổ chức, cá nhân vi phạm công tác đấu giá đất; đưa thông tin sai lệch với mục đích tạo sốt ảo và lừa đảo người dân để trục lợi.',\n",
       " 'Ngoài ra, Thủ tướng cũng yêu cầu Bộ Xây dựng, Bộ Tài nguyên Môi trường và các bộ, ngành có liên quan nghiên cứu Đề án thí điểm mô hình Trung tâm giao dịch bất động sản và quyền sử dụng đất do Nhà nước quản lý, báo cáo Thủ tướng trong quý II năm nay.',\n",
       " 'Kiến nghị về chính sách thuế áp dụng với người sở hữu nhiều nhà đất, bỏ hoang bất động sản cũng được đoàn giám sát của Quốc hội đưa ra cuối tháng 11/2024, trong bối cảnh giá bất động sản, nhà ở liên tục tăng mạnh tại nhiều địa phương. Tình trạng nóng sốt tại các phiên đấu giá đất ở huyện ven có giá trúng cao hơn nhiều lần mức khởi điểm, ảnh hưởng phát triển lành mạnh của thị trường. Nhiều địa phương hiện nay ghi nhận tình trạng lệch pha trên thị trường bất động sản trầm trọng, dư thừa các sản phẩm như shophouse, biệt thự, thiếu nhà ở bình dân, vừa túi tiền, nhất là tại Hà Nội và TP HCM.',\n",
       " 'Trước đó, Bộ Xây dựng cũng đã có đề xuất về việc đánh thuế với trường hợp sở hữu, sử dụng nhiều nhà, đất nhằm hạn chế đầu cơ, mua đi bán lại trong thời gian ngắn để kiếm lời. Đề xuất trên được Bộ Tài chính hoàn toàn đồng tình và Bộ này cũng đang nghiên cứu, tổng hợp kinh nghiệm quốc tế, xác định chính sách thuế với các trường hợp sử dụng nhiều diện tích đất, nhà ở, đất bỏ hoang, đất đã giao, cho thuê nhưng chậm đưa vào sử dụng.',\n",
       " 'Ngoài ra, việc cải cách các chính sách thuế này cũng được đặt trong tổng thể thực hiện Chiến lược cải cách hệ thống thuế của Việt Nam đến năm 2030 đã được Thủ tướng duyệt.',\n",
       " 'Một thăm dò mới đây của VnExpress với gần 32.000 độc giả cho thấy, gần 70% phản hồi đồng tình với việc đánh thuế bất động sản thứ hai và bỏ hoang.',\n",
       " 'Thực tế, đề xuất đánh thuế nhà từng được Bộ Tài chính nêu tại dự thảo Luật Thuế nhà, đất 2009, mức 0,03% với nhà trên 500 triệu đồng. Mười năm sau, nhà chức trách lấy ý kiến dự thảo Luật Thuế tài sản với 2 phương án về ngưỡng đánh thuế nhà, trên 700 triệu hoặc 1 tỷ đồng, tương ứng thuế 0,3% hoặc 0,4%. Song, các đề xuất này đều vấp phải phản ứng trái chiều từ dư luận ngay khi công bố, nên được gác lại.',\n",
       " 'Phương Uyên']"
      ]
     },
     "execution_count": 25,
     "metadata": {},
     "output_type": "execute_result"
    }
   ],
   "source": [
    "contents"
   ]
  },
  {
   "cell_type": "code",
   "execution_count": null,
   "metadata": {
    "colab": {
     "base_uri": "https://localhost:8080/",
     "height": 36
    },
    "executionInfo": {
     "elapsed": 651,
     "status": "ok",
     "timestamp": 1722161309518,
     "user": {
      "displayName": "Duc Nguyen Quang",
      "userId": "13435852976191392349"
     },
     "user_tz": -420
    },
    "id": "906m4iM3QidT",
    "outputId": "9095ffb0-133a-4fd1-f199-787402f6e6ab"
   },
   "outputs": [
    {
     "data": {
      "text/plain": [
       "'Unknown'"
      ]
     },
     "execution_count": 26,
     "metadata": {},
     "output_type": "execute_result"
    }
   ],
   "source": [
    "author"
   ]
  },
  {
   "cell_type": "code",
   "execution_count": 15,
   "metadata": {
    "id": "wHvyN16_QidU"
   },
   "outputs": [],
   "source": [
    "driver.close()"
   ]
  },
  {
   "cell_type": "markdown",
   "metadata": {
    "id": "Eq9o2-7s_bW0"
   },
   "source": [
    "#### Chạy thật\n"
   ]
  },
  {
   "cell_type": "code",
   "execution_count": 21,
   "metadata": {
    "id": "3HEQBevIQidN"
   },
   "outputs": [],
   "source": [
    "def get_content_metadata(driver, article_url):\n",
    "\n",
    "    \"\"\"\n",
    "    Extracts and returns metadata and content from a given article URL.\n",
    "\n",
    "    :param driver: Selenium WebDriver instance.\n",
    "    :param article_url: URL of the article to extract data from.\n",
    "    :return: Dictionary containing article metadata and content.\n",
    "    \"\"\"\n",
    "\n",
    "    # Get to current article\n",
    "    driver.get(article_url)\n",
    "\n",
    "    # Thu thập title\n",
    "    title = driver.find_element(by=By.CSS_SELECTOR, value=\"h1.title-detail\").text.strip()\n",
    "\n",
    "    # Thu thập description\n",
    "    description = driver.find_element(by=By.CLASS_NAME, value=\"description\").text.strip()\n",
    "\n",
    "    # Thu thập thể loại\n",
    "    lis_cat = driver.find_element(by=By.CSS_SELECTOR, value=\"ul.breadcrumb\").find_elements(by=By.TAG_NAME, value=\"li\")\n",
    "    main_cat = lis_cat[0].text if len(lis_cat) > 0 else None\n",
    "    sub_cat = []\n",
    "    for i in range(1, len(lis_cat)):\n",
    "        sub_cat.append(lis_cat[i].text)\n",
    "    if len(sub_cat) == 0:\n",
    "        sub_cat =  None\n",
    "    \n",
    "\n",
    "    # Thu thập published date\n",
    "    publish_date = driver.find_element(by=By.CSS_SELECTOR, value='[itemprop=\"datePublished\"]').get_attribute(\"content\").strip()\n",
    "\n",
    "    # Thu thập content bài báo\n",
    "    # Locate phần viết content\n",
    "    article = driver.find_element(by=By.CSS_SELECTOR, value=\"article.fck_detail\")\n",
    "    # Lấy hết các đầu mục con của bài báo\n",
    "    children = article.find_elements(by=By.XPATH, value=\"./*\")\n",
    "\n",
    "    contents = []\n",
    "    author = \"Unknown\"\n",
    "\n",
    "    # Check có phải dạng slide show hay không\n",
    "    is_slide_show = False\n",
    "    for idx, child in enumerate(children):\n",
    "        text = child.text.strip()\n",
    "        # Nếu mà element right align --> có thể là tác giả\n",
    "        if child.tag_name == \"p\" and (\"right\" in child.get_attribute(\"align\") or \"right\" in child.get_attribute(\"style\")) and idx >= len(children) - 3: # last three, align right --> author\n",
    "            author = text\n",
    "        elif child.tag_name == \"p\" and child.get_attribute(\"class\") == \"Normal\": # paragraph\n",
    "            # If center\n",
    "            if len(text):\n",
    "                if (\"center\" in child.get_attribute(\"align\") or \"center\" in child.get_attribute(\"style\")):\n",
    "                    contents.append(f\"[{text}]\")\n",
    "                else:\n",
    "                    contents.append(text)\n",
    "\n",
    "        # Chỉ lấy caption của figure\n",
    "        elif child.tag_name == \"figure\" :\n",
    "            ## If length > 100  --> not a caption, it's next description\n",
    "            if len(text):\n",
    "                if len(text) <= 100: # nếu mà len <= 100 --> add thêm [] xung quanh\n",
    "                    contents.append(f\"[{text}]\")\n",
    "                else:\n",
    "                    contents.append(text)\n",
    "\n",
    "        # Nếu mà là slide show thì nó giống figure\n",
    "        elif child.tag_name == \"div\" and \"item_slide_show\" in child.get_attribute(\"class\"):\n",
    "            is_slide_show = True # slideshow\n",
    "            if len(text):\n",
    "                if len(text) <= 100:\n",
    "                    contents.append(f\"[{text}]\")\n",
    "                else:\n",
    "                    contents.append(text)\n",
    "\n",
    "        # Bỏ qua table bây giờ\n",
    "        elif child.tag_name == \"table\": # Do nothing rightnow\n",
    "            pass\n",
    "\n",
    "    if is_slide_show:\n",
    "        author = text\n",
    "\n",
    "    # Nếu mà vẫn chưa thấy author thì tìm bằng tag\n",
    "    if author == \"Unknown\":\n",
    "        try:\n",
    "            author = driver.find_element(by=By.XPATH, value=\"//*[contains(@class, 'author')]\").text\n",
    "        except:\n",
    "            pass\n",
    "\n",
    "    return {\n",
    "        \"url\": article_url,\n",
    "        \"title\": title,\n",
    "        \"description\": description,\n",
    "        \"content\": \"\\n\".join(contents), # join các đoạn bằng \\n\n",
    "        \"metadata\": {\n",
    "            \"cat\": main_cat,\n",
    "            \"subcat\": sub_cat,\n",
    "            \"published_date\": publish_date,\n",
    "            \"author\": author\n",
    "        }\n",
    "    }\n"
   ]
  },
  {
   "cell_type": "code",
   "execution_count": 24,
   "metadata": {
    "colab": {
     "base_uri": "https://localhost:8080/"
    },
    "executionInfo": {
     "elapsed": 297807,
     "status": "ok",
     "timestamp": 1722164956030,
     "user": {
      "displayName": "Duc Nguyen Quang",
      "userId": "13435852976191392349"
     },
     "user_tz": -420
    },
    "id": "Z-mDMiwEQidO",
    "outputId": "12767b71-46d4-434f-80ca-5c2e6bb7e33d"
   },
   "outputs": [
    {
     "name": "stdout",
     "output_type": "stream",
     "text": [
      "Thu thập dữ liệu...\n",
      "id_url=0\n",
      "id_url=1\n",
      "id_url=2\n",
      "id_url=3\n",
      "id_url=4\n",
      "id_url=5\n",
      "id_url=6\n",
      "id_url=7\n",
      "id_url=8\n",
      "id_url=9\n"
     ]
    }
   ],
   "source": [
    "driver = webdriver.Chrome(options=chrome_options)\n",
    "\n",
    "count_crawled = 0\n",
    "cat_data = []\n",
    "\n",
    "print(f\"Thu thập dữ liệu...\")\n",
    "for id_url, url in enumerate(urls):\n",
    "    print(f\"id_url={id_url}\")\n",
    "    try:\n",
    "        cat_data.append(get_content_metadata(driver, url))\n",
    "        count_crawled += 1\n",
    "\n",
    "    except (StaleElementReferenceException, NoSuchElementException) as e:\n",
    "        print(f\"Bug at url: {url}, with ElementException\")\n",
    "        driver.refresh()\n",
    "        # Chúng ta tạm bỏ lỗi bây giờ\n",
    "        continue\n",
    "    except Exception:\n",
    "        print('Exception')\n",
    "        continue\n",
    "\n",
    "name_file_cat = 'vnexpress_bds.json'\n",
    "\n",
    "with open(os.path.join(DATA_FOLDER_OUTPUT, name_file_cat), \"w\", encoding='utf-8') as fOut:\n",
    "    json.dump(cat_data, fOut, ensure_ascii=False, indent=4)\n",
    "\n",
    "driver.close()"
   ]
  },
  {
   "cell_type": "code",
   "execution_count": 23,
   "metadata": {
    "colab": {
     "base_uri": "https://localhost:8080/"
    },
    "executionInfo": {
     "elapsed": 425,
     "status": "ok",
     "timestamp": 1722164965772,
     "user": {
      "displayName": "Duc Nguyen Quang",
      "userId": "13435852976191392349"
     },
     "user_tz": -420
    },
    "id": "ckXExoKxyUGX",
    "outputId": "f29fbf83-3d5b-4f17-a3c3-57f703310b00"
   },
   "outputs": [
    {
     "data": {
      "text/plain": [
       "{'url': 'https://vnexpress.net/tp-hcm-sap-dau-gia-khu-dat-26-ha-lam-tod-gan-metro-so-2-4858952.html',\n",
       " 'title': 'TP HCM sắp đấu giá khu đất 26 ha làm TOD gần Metro số 2',\n",
       " 'description': 'Cuối năm nay, TP HCM sẽ đấu giá khu đất 26 ha tại quận Tân Phú để làm TOD dọc tuyến Metro số 2 (Bến Thành - Tham Lương).',\n",
       " 'content': 'TOD là mô hình lấy định hướng phát triển giao thông công cộng để quy hoạch, xây dựng và phát triển đô thị. Những nơi làm TOD được tăng hệ số sử dụng đất, mật độ dân số cao, từ đó thu hút nhu cầu đi và đến các đầu mối giao thông lớn. Mô hình trên đã triển khai ở nhiều nơi nhưng trong nước chưa có.\\nMới đây, UBND quận Tân Phú ban hành kế hoạch triển khai khu vực TOD dọc tuyến Metro số 2 (Bến Thành - Tham Lương) trong năm 2025. Thông qua đánh giá hiện trạng và quy hoạch, quận Tân Phú đã chọn khu đất số I/82 A phường Tây Thạnh là nơi tạo quỹ đất để triển khai mô hình đô thị nén.\\nKhu đất I/82 A Tây Thạnh có diện tích 26 ha, nằm tiếp giáp hai trục đường Tây Thạnh và Trường Chinh. Hiện trạng khu đất đa số là đất trống, một số khu vực đang được cho thuê làm rạp chiếu phim, kho bãi. Theo quy hoạch làm TOD đã được thành phố duyệt, khu vực này sẽ có chức năng là đất hỗn hợp đầu tư thành khu đô thị nén, đồng thời khai thác thêm không gian ngầm để tối ưu hiệu quả sử dụng đất xung quanh nhà ga tuyến Metro số 2.\\n[Mặt bằng tuyến metro số 2 Bến Thành - Tham Lương, tháng 3/2025. Ảnh: Quỳnh Trần]\\nVề kế hoạch thực hiện, quý I năm nay sẽ hoàn tất việc lập trình và phê duyệt đề cương, tổng dự toán. Từ quý II, quận sẽ lập đồ án điều chỉnh quy hoạch cục bộ và tổ chức thẩm định, dự kiến sẽ trình phê duyệt danh mục thu hồi đất và kế hoạch sử dụng đất trong quý III. Từ quý IV, Sở Tài nguyên và Môi trường TP HCM sẽ tiến hành bồi thường hỗ trợ tái định cư, đấu giá lựa chọn nhà đầu tư và tiến hành xây dựng.\\nTheo kế hoạch của UBND TP HCM, trong 10 năm tới sẽ hoàn thành 355 km đường sắt đô thị và phát triển TOD ở 11 vị trí dọc nhà ga các tuyến metro. Riêng với tuyến Metro số 2 (Bến Thành - Tham Lương) sẽ thu hồi 3 khu đất gồm: khu đất Trung tâm Triển lãm và Thể dục thể thao quận Tân Bình, diện tích 5,1 ha; khu đất ô số I/82A Tây Thạnh tại quận Tân Phú, diện tích 26 ha; Khu C300, nằm giữa quận 10 và Tân Bình, diện tích gần 41 ha để làm mô hình TOD.\\nGiai đoạn 2025-2026, TP HCM dự kiến phát triển TOD tại 9 vị trí dọc ba dự án giao thông lớn TP HCM đang triển khai, gồm: Metro số 1 (Bến Thành - Suối Tiên), số 2 (Bến Thành - Tham Lương) và Vành đai 3. Vị trí TOD có diện tích lớn nhất hơn 389 ha nằm ở xã Xuân Thới Thượng, huyện Hóc Môn, nơi diện tích nhỏ nhất là Trung tâm triển lãm và Thể dục thể thao quận Tân Bình, khoảng 5,1 ha.\\nTheo số liệu từ Sở Xây dựng, TP HCM ước tính đang có khoảng 64.000 ha đất có thể phát triển đô thị theo định hướng giao thông công cộng. Trong đó, khoảng 32.000 ha khu vực đất nông nghiệp, đất trống, 9.000 ha đất công nghiệp, sản xuất, hoặc chuyển đổi chức năng và 23.000 ha đất đô thị cần chuyển đổi, cải tạo để phát triển TOD.\\nPhương Uyên',\n",
       " 'metadata': {'cat': '',\n",
       "  'subcat': [''],\n",
       "  'published_date': '2025-03-10T10:55:01+07:00',\n",
       "  'author': 'Unknown'}}"
      ]
     },
     "execution_count": 23,
     "metadata": {},
     "output_type": "execute_result"
    }
   ],
   "source": [
    "# Xem 1 sample\n",
    "cat_data[0]"
   ]
  },
  {
   "cell_type": "markdown",
   "metadata": {
    "id": "fJJ0nyIrBfVl"
   },
   "source": [
    "## Lưu dữ liệu\n",
    "\n",
    "Nếu bạn chạy ở máy cá nhân thì không cần, nhưng nếu mà chạy ở Colab thì nên lưu dữ liệu vào trong Google Drive\n"
   ]
  },
  {
   "cell_type": "code",
   "execution_count": null,
   "metadata": {
    "colab": {
     "base_uri": "https://localhost:8080/"
    },
    "executionInfo": {
     "elapsed": 19396,
     "status": "ok",
     "timestamp": 1722164996735,
     "user": {
      "displayName": "Duc Nguyen Quang",
      "userId": "13435852976191392349"
     },
     "user_tz": -420
    },
    "id": "BaOtPsXgBvlh",
    "outputId": "0602b0e6-57a7-4d18-df48-baaf4f111ad4"
   },
   "outputs": [],
   "source": [
    "# # For Google Colab\n",
    "# from google.colab import drive\n",
    "# drive.mount('/content/drive')"
   ]
  },
  {
   "cell_type": "code",
   "execution_count": null,
   "metadata": {
    "id": "kg7zi2KICBn8"
   },
   "outputs": [],
   "source": [
    "# # Set to your folder\n",
    "# FOLDER_SAVED_GOOGLE_COLAB = \"/content/drive/MyDrive/crawl-news/\"\n",
    "\n",
    "# # Copy\n",
    "# !cp -r data $FOLDER_SAVED_GOOGLE_COLAB"
   ]
  }
 ],
 "metadata": {
  "colab": {
   "provenance": []
  },
  "kernelspec": {
   "display_name": "Python 3",
   "language": "python",
   "name": "python3"
  },
  "language_info": {
   "codemirror_mode": {
    "name": "ipython",
    "version": 3
   },
   "file_extension": ".py",
   "mimetype": "text/x-python",
   "name": "python",
   "nbconvert_exporter": "python",
   "pygments_lexer": "ipython3",
   "version": "3.11.4"
  }
 },
 "nbformat": 4,
 "nbformat_minor": 0
}
